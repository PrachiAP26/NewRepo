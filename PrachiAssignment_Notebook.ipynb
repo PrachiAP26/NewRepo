{
 "cells": [
  {
   "cell_type": "markdown",
   "metadata": {},
   "source": [
    "<center>\n",
    "    <img src=\"https://s3-api.us-geo.objectstorage.softlayer.net/cf-courses-data/CognitiveClass/Logos/organization_logo/organization_logo.png\" width=\"300\" alt=\"cognitiveclass.ai logo\"  />\n",
    "</center>\n"
   ]
  },
  {
   "cell_type": "markdown",
   "metadata": {},
   "source": [
    "#### Add your code below following the instructions given in the course\n"
   ]
  },
  {
   "cell_type": "markdown",
   "metadata": {},
   "source": [
    "<h1>My Jupyter Notebook on IBM Watson Studio</h1>"
   ]
  },
  {
   "cell_type": "markdown",
   "metadata": {},
   "source": [
    "**Prachi Tamgadge**"
   ]
  },
  {
   "cell_type": "markdown",
   "metadata": {},
   "source": [
    "My desired occupation is to become a Data Scientist"
   ]
  },
  {
   "cell_type": "markdown",
   "metadata": {},
   "source": [
    "*I am interested in data science because data science gives opportunity to work in different fields such as business and educational field.*"
   ]
  },
  {
   "cell_type": "markdown",
   "metadata": {},
   "source": [
    "<h3> Following code is going to perform the addition, subtraction , multiplication calculation</h3>"
   ]
  },
  {
   "cell_type": "code",
   "execution_count": 6,
   "metadata": {},
   "outputs": [
    {
     "name": "stdout",
     "output_type": "stream",
     "text": [
      "7\n",
      "3\n",
      "10\n"
     ]
    }
   ],
   "source": [
    "a=5\n",
    "b=2\n",
    "print(a+b)\n",
    "print(a-b)\n",
    "print(a*b)"
   ]
  },
  {
   "cell_type": "markdown",
   "metadata": {},
   "source": [
    "Hyperlink\n",
    "<www.youtube.com>\n"
   ]
  },
  {
   "cell_type": "markdown",
   "metadata": {},
   "source": [
    "Table\n",
    "|SerialNo | EmployeeId | job title|\n",
    "|---------|------------|----------|\n",
    "|1|Emp01|HR|\n",
    "|---|---|---|\n",
    "|2|Emp02|Sales Manager|\n",
    "|---|---|---|\n",
    "|3|Emp03|Salesman|"
   ]
  },
  {
   "cell_type": "markdown",
   "metadata": {},
   "source": [
    "Bulleted List\n",
    "* Monkey\n",
    "* Penguin"
   ]
  },
  {
   "cell_type": "markdown",
   "metadata": {},
   "source": [
    "Strike Through\n",
    "~~Pritesh~~"
   ]
  },
  {
   "cell_type": "markdown",
   "metadata": {},
   "source": [
    "Blocked Quotes 'Pritesh'"
   ]
  },
  {
   "cell_type": "code",
   "execution_count": null,
   "metadata": {},
   "outputs": [],
   "source": []
  }
 ],
 "metadata": {
  "kernelspec": {
   "display_name": "Python",
   "language": "python",
   "name": "conda-env-python-py"
  },
  "language_info": {
   "codemirror_mode": {
    "name": "ipython",
    "version": 3
   },
   "file_extension": ".py",
   "mimetype": "text/x-python",
   "name": "python",
   "nbconvert_exporter": "python",
   "pygments_lexer": "ipython3",
   "version": "3.7.12"
  }
 },
 "nbformat": 4,
 "nbformat_minor": 4
}
